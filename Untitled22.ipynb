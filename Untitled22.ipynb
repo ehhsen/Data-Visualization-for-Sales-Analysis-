{
  "nbformat": 4,
  "nbformat_minor": 0,
  "metadata": {
    "colab": {
      "private_outputs": true,
      "provenance": [],
      "authorship_tag": "ABX9TyP9BXVNyyzxqN1GK0/aBN12",
      "include_colab_link": true
    },
    "kernelspec": {
      "name": "python3",
      "display_name": "Python 3"
    },
    "language_info": {
      "name": "python"
    }
  },
  "cells": [
    {
      "cell_type": "markdown",
      "metadata": {
        "id": "view-in-github",
        "colab_type": "text"
      },
      "source": [
        "<a href=\"https://colab.research.google.com/github/ehhsen/Data-Visualization-for-Sales-Analysis-/blob/main/Untitled22.ipynb\" target=\"_parent\"><img src=\"https://colab.research.google.com/assets/colab-badge.svg\" alt=\"Open In Colab\"/></a>"
      ]
    },
    {
      "cell_type": "markdown",
      "source": [
        "**data visualization for sales analysis**"
      ],
      "metadata": {
        "id": "SgAzE8kAR5kR"
      }
    },
    {
      "cell_type": "markdown",
      "source": [
        "**installing necessary libraries**"
      ],
      "metadata": {
        "id": "JfSEKJMeTB0Y"
      }
    },
    {
      "cell_type": "code",
      "source": [
        "!pip install pandas matplotlib numpy\n"
      ],
      "metadata": {
        "id": "SfW78gt8TGRu"
      },
      "execution_count": null,
      "outputs": []
    },
    {
      "cell_type": "markdown",
      "source": [
        "**IMPORTING LIBRARIES**"
      ],
      "metadata": {
        "id": "FJN_eZABTSIE"
      }
    },
    {
      "cell_type": "code",
      "source": [
        "import pandas as pd\n",
        "import matplotlib.pyplot as plt\n",
        "import numpy as np\n"
      ],
      "metadata": {
        "id": "XHgzaXi0TXKh"
      },
      "execution_count": null,
      "outputs": []
    },
    {
      "cell_type": "markdown",
      "source": [
        "**EDA 1. LOADING EXPLORING STRUCTURE **"
      ],
      "metadata": {
        "id": "XxoMe4XpTf6Z"
      }
    },
    {
      "cell_type": "code",
      "source": [],
      "metadata": {
        "id": "JFGlzQdlI8-t"
      },
      "execution_count": null,
      "outputs": []
    },
    {
      "cell_type": "code",
      "source": [
        "# LOADING DATA\n",
        "import pandas as pd\n",
        "df = pd.read_csv(\"Sales Data (3).csv\")\n",
        "#Explore the structure of the data\n",
        "print(\"Data Head:\")\n",
        "print(Sales Data (3).head())  # Display the first few rows of the dataset\n",
        "\n",
        "print(\"\\nData Info:\")\n",
        "print(Sales Data (3).info())  # Get information about the data, including types and missing values\n",
        "\n",
        "print(\"\\nData Summary:\")\n",
        "print(Sales Data (3).describe())  # Summary statistics of the numeric columns\n",
        "\n",
        "# Check for missing values in the data\n",
        "print(\"\\nMissing Values:\")\n",
        "print(Sales Data.isnull().sum())"
      ],
      "metadata": {
        "id": "Rju7R5vlTpO1"
      },
      "execution_count": null,
      "outputs": []
    },
    {
      "cell_type": "markdown",
      "source": [
        "**DATA CLEANING AND MANIPULATION**"
      ],
      "metadata": {
        "id": "F00VGtgXU6Sq"
      }
    },
    {
      "cell_type": "code",
      "source": [
        "\n",
        "#droping rows with missing values if it's more appropriate:\n",
        "# sales_data.dropna(inplace=True)\n",
        "\n",
        "# Convert date columns to datetime format (assuming there's a 'date' column)\n",
        "df['date'] = pd.to_datetime(df['date'], errors='coerce')\n",
        "\n",
        "# Handle other date-related issues, such as extracting year, month, or day from the 'date' column\n",
        "df['year'] = df['date'].dt.year\n",
        "df['month'] = df['date'].dt.month\n",
        "df['day'] = df['date'].dt.day\n",
        "#handling metrices\n",
        "# Calculate metrics (e.g., total revenue, total sales)\n",
        "# Assuming there are 'quantity_sold' and 'price' columns\n",
        "df['total_revenue'] = dd['quantity_sold'] * df['price']\n",
        "\n",
        "# Check the cleaned data structure\n",
        "print(\"\\nCleaned Data Head:\")\n",
        "print(df.head())\n",
        "\n",
        "# Save the cleaned data to a new CSV file (optional)\n",
        "sales_data.to_csv('cleaned_sales_data"
      ],
      "metadata": {
        "id": "RGrzy6fUVCnQ"
      },
      "execution_count": null,
      "outputs": []
    },
    {
      "cell_type": "markdown",
      "source": [
        "**Visualization **"
      ],
      "metadata": {
        "id": "NrFMbUYLLeLx"
      }
    },
    {
      "cell_type": "code",
      "source": [
        "\n",
        "\n",
        "\n",
        "# Sort the data by date to ensure the trend is shown in chronological order\n",
        "df = df.sort_values(by='date')\n",
        "\n",
        "# Plotting the total revenue trend over time\n",
        "plt.figure(figsize=(10, 6))  # Set the figure size\n",
        "plt.plot(df['date'], df['total_revenue'], color='b', marker='o', linestyle='-')\n",
        "\n",
        "# Add labels and title to the plot\n",
        "plt.xlabel('Date')\n",
        "plt.ylabel('Total Revenue')\n",
        "plt.title('Sales Trend: Total Revenue Over Time')\n",
        "\n",
        "# Rotate x-axis labels for better readability\n",
        "plt.xticks(rotation=45)\n",
        "\n",
        "# Add a grid for better readability\n",
        "plt.grid(True)\n",
        "\n",
        "# Show the legend\n",
        "plt.legend()\n",
        "\n",
        "# Display the plot\n",
        "plt.tight_layout()\n",
        "plt.show()"
      ],
      "metadata": {
        "id": "Y1rWVCA1Libj"
      },
      "execution_count": null,
      "outputs": []
    },
    {
      "cell_type": "markdown",
      "source": [
        "**comparing stores performance country wise**"
      ],
      "metadata": {
        "id": "cN8lDLelQJ4V"
      }
    },
    {
      "cell_type": "code",
      "source": [
        "# Assuming there's a 'store' column and the 'total_revenue' column is already calculated\n",
        "# Group the data by store and calculate the total revenue for each store\n",
        "store_performance = df.groupby('store')['total_revenue'].sum().reset_index()\n",
        "\n",
        "# Sort the stores by total revenue for better visualization (optional)\n",
        "store_performance = store_performance.sort_values(by='total_revenue', ascending=False)\n",
        "\n",
        "# Plotting the bar chart to compare store performance\n",
        "plt.figure(figsize=(10, 6))  # Set the figure size\n",
        "plt.bar(store_performance['store'], store_performance['total_revenue'], color='c')\n",
        "\n",
        "# Add labels and title to the plot\n",
        "plt.xlabel('Store')\n",
        "plt.ylabel('Total Revenue')\n",
        "plt.title('Store Performance: Total Revenue by Store')\n",
        "\n",
        "# Rotate x-axis labels for better readability\n",
        "plt.xticks(rotation=45)\n",
        "\n",
        "# Add a grid for better readability\n",
        "plt.grid(axis='y')\n",
        "\n",
        "# Display the plot\n",
        "plt.tight_layout()\n",
        "plt.show()"
      ],
      "metadata": {
        "id": "adRzSo6BQZsJ"
      },
      "execution_count": null,
      "outputs": []
    },
    {
      "cell_type": "markdown",
      "source": [
        "**Product Sales Analysis **"
      ],
      "metadata": {
        "id": "6_zowPo8lZRL"
      }
    },
    {
      "cell_type": "code",
      "source": [
        "# Assuming there's a 'product' column and the 'total_revenue' column is already calculated\n",
        "# Group the data by product and calculate the total revenue for each product\n",
        "product_sales = df.groupby('product')['total_revenue'].sum().reset_index()\n",
        "\n",
        "# Plotting the pie chart to show the distribution of total revenue by product\n",
        "plt.figure(figsize=(8, 8))  # Set the figure size\n",
        "plt.pie(product_sales['total_revenue'], labels=product_sales['product'], autopct='%1.1f%%', startangle=140)\n",
        "\n",
        "# Add a title to the pie chart\n",
        "plt.title('Product Sales Analysis: Total Revenue Distribution by Product')\n",
        "\n",
        "# Display the plot\n",
        "plt.tight_layout()\n",
        "plt.show()"
      ],
      "metadata": {
        "id": "swtk9rOylgao"
      },
      "execution_count": null,
      "outputs": []
    },
    {
      "cell_type": "markdown",
      "source": [],
      "metadata": {
        "id": "nxVYoGCflI4-"
      }
    },
    {
      "cell_type": "markdown",
      "source": [
        "**EXPLORING SALES DISTRIBUTION **"
      ],
      "metadata": {
        "id": "nhQoe_QfmqPo"
      }
    },
    {
      "cell_type": "code",
      "source": [
        "# Plotting the distribution of total revenue\n",
        "plt.figure(figsize=(10, 6))  # Set the figure size for the total revenue histogram\n",
        "plt.hist(df['total_revenue'], bins=20, color='g', edgecolor='black')\n",
        "\n",
        "# Add labels and title for total revenue histogram\n",
        "plt.xlabel('Total Revenue')\n",
        "plt.ylabel('Frequency')\n",
        "plt.title('Distribution of Total Revenue')\n",
        "\n",
        "# Display the total revenue histogram\n",
        "plt.tight_layout()\n",
        "\n",
        "# Plotting the distribution of quantity sold\n",
        "plt.figure(figsize=(10, 6))  # Set the figure size for the quantity sold histogram\n",
        "plt.hist(df['quantity_sold'], bins=20, color='b', edgecolor='black')\n",
        "\n",
        "# Add labels and title for quantity sold histogram\n",
        "plt.xlabel('Quantity Sold')\n",
        "plt.ylabel('Frequency')\n",
        "plt.title('Distribution of Quantity Sold')\n",
        "\n",
        "# Display the quantity sold histogram\n",
        "plt.tight_layout()\n",
        "plt.show()"
      ],
      "metadata": {
        "id": "NBXwQV_om5iu"
      },
      "execution_count": null,
      "outputs": []
    },
    {
      "cell_type": "markdown",
      "source": [
        "SUBPLOTS FOR COMBINED ANALYSIS"
      ],
      "metadata": {
        "id": "9fcKpzBvn-4n"
      }
    },
    {
      "cell_type": "code",
      "source": [
        "\n",
        "# Create a figure with multiple subplots (2x2 grid layout for example)\n",
        "fig, axs = plt.subplots(2, 2, figsize=(12, 10))  # 2 rows, 2 columns\n",
        "\n",
        "# Subplot 1: Total Revenue Over Time (Line plot)\n",
        "axs[0, 0].plot(df['date'], df['total_revenue'], color='b', marker='o', ls='-')\n",
        "axs[0, 0].set_title('Total Revenue Over Time')\n",
        "axs[0, 0].set_xlabel('Date')\n",
        "axs[0, 0].set_ylabel('Total Revenue')\n",
        "axs[0, 0].tick_params(axis='x', rotation=45)\n",
        "\n",
        "# Subplot 2: Store Performance (Bar chart)\n",
        "store_performance = df.groupby('store')['total_revenue'].sum().reset_index()\n",
        "store_performance = store_performance.sort_values(by='total_revenue', ascending=False)\n",
        "axs[0, 1].bar(store_performance['store'], store_performance['total_revenue'], color='g')\n",
        "axs[0, 1].set_title('Store Performance: Total Revenue by Store')\n",
        "axs[0, 1].set_xlabel('Store')\n",
        "axs[0, 1].set_ylabel('Total Revenue')\n",
        "axs[0, 1].tick_params(axis='x', rotation=45)\n",
        "\n",
        "# Subplot 3: Product Sales Distribution (Pie chart)\n",
        "product_sales = df.groupby('product')['total_revenue'].sum().reset_index()\n",
        "axs[1, 0].pie(product_sales['total_revenue'], labels=product_sales['product'], autopct='%1.1f%%', startangle=140)\n",
        "axs[1, 0].set_title('Product Sales Distribution')\n",
        "\n",
        "# Subplot 4: Total Revenue Distribution (Histogram)\n",
        "axs[1, 1].hist(df['total_revenue'], bins=20, color='r', edgecolor='black')\n",
        "axs[1, 1].set_title('Distribution of Total Revenue')\n",
        "axs[1, 1].set_xlabel('Total Revenue')\n",
        "axs[1, 1].set_ylabel('Frequency')\n",
        "\n",
        "# Adjust layout to prevent overlap and make it look clean\n",
        "plt.tight_layout()\n",
        "\n",
        "# Show the combined figure with all subplots\n",
        "plt.show()"
      ],
      "metadata": {
        "id": "DktSHy8XoKVj"
      },
      "execution_count": null,
      "outputs": []
    },
    {
      "cell_type": "markdown",
      "source": [
        "Conclusions"
      ],
      "metadata": {
        "id": "UVJY2BZMqCNR"
      }
    }
  ]
}